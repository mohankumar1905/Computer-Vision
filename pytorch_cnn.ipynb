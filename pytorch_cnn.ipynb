{
  "nbformat": 4,
  "nbformat_minor": 0,
  "metadata": {
    "colab": {
      "name": "CNN-pytorch.ipynb",
      "provenance": [],
      "collapsed_sections": []
    },
    "kernelspec": {
      "name": "python3",
      "display_name": "Python 3"
    },
    "accelerator": "GPU"
  },
  "cells": [
    {
      "cell_type": "code",
      "metadata": {
        "id": "4NgDzY-8kZQI",
        "colab_type": "code",
        "colab": {
          "base_uri": "https://localhost:8080/",
          "height": 33
        },
        "outputId": "7f8645d4-5b9d-41bc-c9bb-8b5008c74d2f"
      },
      "source": [
        "# Load the Drive helper and mount\n",
        "from google.colab import drive\n",
        "\n",
        "# This will prompt for authorization.\n",
        "drive.mount('/content/drive')"
      ],
      "execution_count": 1,
      "outputs": [
        {
          "output_type": "stream",
          "text": [
            "Drive already mounted at /content/drive; to attempt to forcibly remount, call drive.mount(\"/content/drive\", force_remount=True).\n"
          ],
          "name": "stdout"
        }
      ]
    },
    {
      "cell_type": "code",
      "metadata": {
        "id": "jxjkmgTtSYoL",
        "colab_type": "code",
        "colab": {}
      },
      "source": [
        "import torch\n",
        "from torch import nn\n",
        "from torch.nn import functional as F\n",
        "from torch.utils.data import random_split, DataLoader, Dataset, SubsetRandomSampler\n",
        "import torchvision\n",
        "from torchvision import datasets\n",
        "from torchvision import transforms\n",
        "from torch.optim import Adam\n",
        "from torch.autograd import Variable\n",
        "import numpy as np"
      ],
      "execution_count": 0,
      "outputs": []
    },
    {
      "cell_type": "code",
      "metadata": {
        "id": "_yMK-zvPSgIL",
        "colab_type": "code",
        "colab": {}
      },
      "source": [
        "path = f\"/content/drive/My Drive/pokemon/dataset\""
      ],
      "execution_count": 0,
      "outputs": []
    },
    {
      "cell_type": "code",
      "metadata": {
        "id": "Mnc6o3aXSon2",
        "colab_type": "code",
        "colab": {}
      },
      "source": [
        "#we do not apply transformations like Random Horizontal Flip to test data\n",
        "train_transform = transforms.Compose(\n",
        "    [transforms.RandomHorizontalFlip(),\n",
        "     #transforms.RandomCrop(124, padding=4, pad_if_needed=True),\n",
        "     transforms.RandomResizedCrop(128),\n",
        "     transforms.ToTensor(),\n",
        "     transforms.Normalize(mean=[0.485, 0.456, 0.406], std=[0.229, 0.224, 0.225])\n",
        "\n",
        "])\n",
        "\n",
        "validation_test_transform = transforms.Compose(\n",
        "    [transforms.Resize([128, 128]),\n",
        "     transforms.ToTensor(),\n",
        "     transforms.Normalize(mean=[0.485, 0.456, 0.406], std=[0.229, 0.224, 0.225])\n",
        "\n",
        "])"
      ],
      "execution_count": 0,
      "outputs": []
    },
    {
      "cell_type": "code",
      "metadata": {
        "id": "yU3fT_567w6O",
        "colab_type": "code",
        "colab": {}
      },
      "source": [
        "train_dataset = datasets.ImageFolder(root=path, transform=train_transform)\n",
        "validation_dataset = datasets.ImageFolder(root=path, transform=validation_test_transform)\n",
        "test_dataset = datasets.ImageFolder(root=path, transform=validation_test_transform)"
      ],
      "execution_count": 0,
      "outputs": []
    },
    {
      "cell_type": "code",
      "metadata": {
        "id": "C672b2R6g1RV",
        "colab_type": "code",
        "colab": {
          "base_uri": "https://localhost:8080/",
          "height": 33
        },
        "outputId": "cae49e19-bda6-47d6-9533-49009e8dc9c9"
      },
      "source": [
        "dataset = datasets.ImageFolder(path)#, transform=image_transform)\n",
        "train_size = 0.8\n",
        "valid_size = 0.1\n",
        "num_train = len(dataset)\n",
        "indices = list(range(num_train))\n",
        "np.random.shuffle(indices)\n",
        "train_split = int(np.floor(train_size * num_train))\n",
        "val_split = int(np.floor(valid_size * num_train))\n",
        "test_split = num_train - train_split - val_split\n",
        "train_idx, valid_idx, test_idx = indices[: train_split], indices[train_split : train_split + val_split], indices[train_split + val_split: ]\n",
        "len(train_idx), len(valid_idx), len(test_idx)"
      ],
      "execution_count": 6,
      "outputs": [
        {
          "output_type": "execute_result",
          "data": {
            "text/plain": [
              "(524, 65, 66)"
            ]
          },
          "metadata": {
            "tags": []
          },
          "execution_count": 6
        }
      ]
    },
    {
      "cell_type": "code",
      "metadata": {
        "id": "qfBeC8MLk29x",
        "colab_type": "code",
        "colab": {
          "base_uri": "https://localhost:8080/",
          "height": 67
        },
        "outputId": "1c3daba3-26ad-48c1-8fee-2541bc631b45"
      },
      "source": [
        "print(f\"Number of samples in the training set is {len(train_dataset)}, actual sample going to be loaded for training is {len(train_idx)}\")\n",
        "print(f\"Number of samples in the validation set is {len(train_dataset)}, actual sample going to be loaded for validation is {len(valid_idx)}\")\n",
        "print(f\"Number of samples in the test set is {len(train_dataset)}, actual sample going to be loaded for test is {len(test_idx)}\")"
      ],
      "execution_count": 7,
      "outputs": [
        {
          "output_type": "stream",
          "text": [
            "Number of samples in the training set is 655, actual sample going to be loaded for training is 524\n",
            "Number of samples in the validation set is 655, actual sample going to be loaded for validation is 65\n",
            "Number of samples in the test set is 655, actual sample going to be loaded for test is 66\n"
          ],
          "name": "stdout"
        }
      ]
    },
    {
      "cell_type": "code",
      "metadata": {
        "id": "ZUMpJ0iH1crb",
        "colab_type": "code",
        "colab": {}
      },
      "source": [
        "train_sampler = SubsetRandomSampler(train_idx)\n",
        "valid_sampler = SubsetRandomSampler(valid_idx)\n",
        "test_sampler = SubsetRandomSampler(test_idx)\n",
        "\n",
        "train_loader = DataLoader(train_dataset, batch_size=16, sampler=train_sampler)\n",
        "valid_loader = DataLoader(validation_dataset, batch_size=16, sampler=valid_sampler)\n",
        "test_loader = DataLoader(test_dataset, batch_size=16, sampler=test_sampler)"
      ],
      "execution_count": 0,
      "outputs": []
    },
    {
      "cell_type": "code",
      "metadata": {
        "id": "SnKBB6PL9nB1",
        "colab_type": "code",
        "colab": {
          "base_uri": "https://localhost:8080/",
          "height": 33
        },
        "outputId": "0ece8fe7-12d5-4af5-9406-6d81f3391d46"
      },
      "source": [
        "dataiter = iter(train_loader)\n",
        "images, labels = dataiter.next()\n",
        "images.shape"
      ],
      "execution_count": 9,
      "outputs": [
        {
          "output_type": "execute_result",
          "data": {
            "text/plain": [
              "torch.Size([16, 3, 128, 128])"
            ]
          },
          "metadata": {
            "tags": []
          },
          "execution_count": 9
        }
      ]
    },
    {
      "cell_type": "code",
      "metadata": {
        "id": "geQLiWZ0_2eX",
        "colab_type": "code",
        "colab": {
          "base_uri": "https://localhost:8080/",
          "height": 33
        },
        "outputId": "e79df36b-f6e8-447c-d831-d6e3ec6f1827"
      },
      "source": [
        "labels"
      ],
      "execution_count": 10,
      "outputs": [
        {
          "output_type": "execute_result",
          "data": {
            "text/plain": [
              "tensor([2, 0, 0, 0, 0, 0, 0, 2, 0, 1, 0, 1, 2, 0, 0, 2])"
            ]
          },
          "metadata": {
            "tags": []
          },
          "execution_count": 10
        }
      ]
    },
    {
      "cell_type": "code",
      "metadata": {
        "id": "Kdo5niyvyNZY",
        "colab_type": "code",
        "colab": {
          "base_uri": "https://localhost:8080/",
          "height": 169
        },
        "outputId": "6318aace-1eb8-4a49-c2c3-147b00d0e58e"
      },
      "source": [
        "import matplotlib.pyplot as plt\n",
        "import numpy as np\n",
        "\n",
        "# functions to show an image\n",
        "\n",
        "\n",
        "def imshow(img):\n",
        "    img = img / 2 + 0.5     # unnormalize\n",
        "    npimg = img.numpy()\n",
        "    plt.imshow(np.transpose(npimg, (1, 2, 0)))\n",
        "    plt.show()\n",
        "\n",
        "\n",
        "# get some random training images\n",
        "dataiter = iter(train_loader)\n",
        "images, labels = dataiter.next()\n",
        "\n",
        "# show images\n",
        "imshow(torchvision.utils.make_grid(images))\n",
        "# print labels\n",
        "classes = ['Bulbasaur', 'Meowth', 'Pickachu']\n",
        "print(' '.join('%5s' % classes[labels[j]] for j in range(4)))"
      ],
      "execution_count": 11,
      "outputs": [
        {
          "output_type": "stream",
          "text": [
            "Clipping input data to the valid range for imshow with RGB data ([0..1] for floats or [0..255] for integers).\n"
          ],
          "name": "stderr"
        },
        {
          "output_type": "display_data",
          "data": {
            "image/png": "[encoded data removed]",
            "text/plain": [
              "<Figure size 432x288 with 1 Axes>"
            ]
          },
          "metadata": {
            "tags": [],
            "needs_background": "light"
          }
        },
        {
          "output_type": "stream",
          "text": [
            "Bulbasaur Pickachu Pickachu Bulbasaur\n"
          ],
          "name": "stdout"
        }
      ]
    },
    {
      "cell_type": "markdown",
      "metadata": {
        "id": "Ycr9Ot5dsYis",
        "colab_type": "text"
      },
      "source": [
        "# Here is some formula to understand about convolutional and pooling layer\n",
        "\n",
        "In a convolutional neural network, there are 3 main parameters that need to be tweaked to modify the behavior of a convolutional layer. These parameters are filter size, stride and zero padding. The size of the output feature map generated depends on the above 3 important parameters.\n",
        "\n",
        "![image.png](data:image/png;base64,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)\n"
      ]
    },
    {
      "cell_type": "markdown",
      "metadata": {
        "id": "womnoNA-vrb3",
        "colab_type": "text"
      },
      "source": [
        "Kernel size will be k * k * previous channel size.\n",
        "\n",
        "1) In convolutional layer, it reduces kernel sized value to a single value in image(multiplication and addition). Kernels have weights here\n",
        "\n",
        "2) In pooling layer(max pooling or average pooling) it also reduces kernel sized value to a single value in image. It just takes maximum value from that window in max pooling"
      ]
    },
    {
      "cell_type": "code",
      "metadata": {
        "id": "pY1ul9UlrI_0",
        "colab_type": "code",
        "colab": {}
      },
      "source": [
        "class SingleCNNUnit(nn.Module):\n",
        "  def __init__(self, in_channels, out_channels):\n",
        "    super().__init__()\n",
        "\n",
        "    self.conv = nn.Conv2d(in_channels=in_channels, kernel_size=3, out_channels=out_channels, stride=1, padding=1)\n",
        "    self.bn = nn.BatchNorm2d(num_features=out_channels)\n",
        "    self.pool = nn.MaxPool2d(2, 2)\n",
        "\n",
        "  def forward(self, x):\n",
        "    x = self.conv(x)\n",
        "    x = self.bn(x)\n",
        "    x = F.relu(x)\n",
        "    x = self.pool(x)\n",
        "    return x"
      ],
      "execution_count": 0,
      "outputs": []
    },
    {
      "cell_type": "code",
      "metadata": {
        "id": "4niPANhEEEY7",
        "colab_type": "code",
        "colab": {}
      },
      "source": [
        "class CustomCNN(nn.Module):\n",
        "  def __init__(self, num_classes=3):\n",
        "    super().__init__()\n",
        "    self.conv_pool_1 = SingleCNNUnit(3, 6) #input 128 * 128 * 3 -> output: 64 * 64 * 6\n",
        "    self.conv_pool_2 = SingleCNNUnit(6, 16) #input 64 * 64 * 3 -> output: 32 * 32 * 16\n",
        "    self.conv_pool_3 = SingleCNNUnit(16, 32) #input 32 * 32 * 16 -> output: 16 * 16 * 32\n",
        "    self.conv_pool_4 = SingleCNNUnit(32, 64) #input 16 * 16 * 32 -> output: 8 * 8 * 64\n",
        "    self.linear1 = nn.Linear(8*8*64, 1000)\n",
        "    self.linear2 = nn.Linear(1000, 120)\n",
        "    self.linear3 = nn.Linear(120, num_classes)\n",
        "    self.conv_layers = nn.Sequential(self.conv_pool_1, self.conv_pool_2, self.conv_pool_3, self.conv_pool_4)\n",
        "  \n",
        "  def forward(self, x):\n",
        "    x = self.conv_layers(x)\n",
        "    x = x.view(-1, 8*8*64)\n",
        "    x = self.linear1(x)\n",
        "    x = F.relu(x)\n",
        "    x = self.linear2(x)\n",
        "    x = F.relu(x)\n",
        "    x = self.linear3(x)\n",
        "    return x\n",
        "\n",
        "  def predict(self, x):\n",
        "    return self(x)\n",
        "model = CustomCNN(3)"
      ],
      "execution_count": 0,
      "outputs": []
    },
    {
      "cell_type": "code",
      "metadata": {
        "id": "ZwZbq4OQIaMc",
        "colab_type": "code",
        "colab": {}
      },
      "source": [
        "cuda_availablity = torch.cuda.is_available()"
      ],
      "execution_count": 0,
      "outputs": []
    },
    {
      "cell_type": "code",
      "metadata": {
        "id": "OFQfz8DeI15N",
        "colab_type": "code",
        "colab": {}
      },
      "source": [
        "if cuda_availablity == True:\n",
        "  model.cuda()"
      ],
      "execution_count": 0,
      "outputs": []
    },
    {
      "cell_type": "code",
      "metadata": {
        "id": "mfmID0eJJLIt",
        "colab_type": "code",
        "colab": {}
      },
      "source": [
        "optimizer = Adam(model.parameters(), lr=0.001, weight_decay=0.0001)\n",
        "loss_function = nn.CrossEntropyLoss()"
      ],
      "execution_count": 0,
      "outputs": []
    },
    {
      "cell_type": "code",
      "metadata": {
        "id": "GbQoesaVYq8b",
        "colab_type": "code",
        "colab": {}
      },
      "source": [
        "def adjustable_learning_rate(epoch):\n",
        "  lr = 0.001\n",
        "  if epoch > 100:\n",
        "    lr = lr/100\n",
        "  elif epoch > 60:\n",
        "    lr = lr/10\n",
        "  elif epoch > 10:\n",
        "    lr = lr/2\n",
        "  for param_group in optimizer.param_groups:\n",
        "    param_group['lr'] = lr"
      ],
      "execution_count": 0,
      "outputs": []
    },
    {
      "cell_type": "code",
      "metadata": {
        "id": "rrTBZ7pCkkvx",
        "colab_type": "code",
        "colab": {}
      },
      "source": [
        "def eval_model(loader):\n",
        "  model.eval()\n",
        "  accu = 0.0\n",
        "  num_mini_batches = 0.0\n",
        "  for i, (images, labels) in enumerate(loader):\n",
        "    if cuda_availablity == True:\n",
        "      images = Variable(images.cuda())\n",
        "      labels = Variable(labels.cuda())\n",
        "\n",
        "    #Predict classes using images from validation or test.\n",
        "    outputs = model.predict(images)\n",
        "    _, prediction = torch.max(outputs.data, 1)\n",
        "    accu += ((torch.sum(prediction==labels.data).cpu().numpy())/len(prediction))\n",
        "    num_mini_batches = i\n",
        "  accu = accu/(num_mini_batches+1)\n",
        "  return accu"
      ],
      "execution_count": 0,
      "outputs": []
    },
    {
      "cell_type": "code",
      "metadata": {
        "id": "0LpHcDhzZgCn",
        "colab_type": "code",
        "colab": {
          "base_uri": "https://localhost:8080/",
          "height": 472
        },
        "outputId": "1a50db30-e70c-4cff-ae41-c849f0e8121e"
      },
      "source": [
        "epochs = 10\n",
        "\n",
        "for epoch in range(epochs):\n",
        "  model.train()\n",
        "  train_acc = 0.0\n",
        "  best_accu = 0.0\n",
        "  train_loss = 0.0\n",
        "  num_mini_batches = None\n",
        "  for i, (images, labels) in enumerate(train_loader):\n",
        "    #Move images to GPU if cuda is avialable\n",
        "    if cuda_availablity == True:\n",
        "      images = Variable(images.cuda())\n",
        "      labels = Variable(labels.cuda())\n",
        "\n",
        "    #Clear accumulated gradients\n",
        "    optimizer.zero_grad()\n",
        "    #Predict classes using images from the test set.\n",
        "    outputs = model.predict(images)\n",
        "    #Compute the loss function for predicted and actual labels.\n",
        "    loss = loss_function(outputs, labels)\n",
        "    #backward propogation\n",
        "    loss.backward()\n",
        "\n",
        "    #Adjust parameters according to the computed gradients\n",
        "    optimizer.step()\n",
        "    train_loss += loss.cpu().data.numpy().ravel()[0]\n",
        "    _, prediction = torch.max(outputs.data, 1)\n",
        "    train_acc += ((torch.sum(prediction==labels.data).cpu().numpy())/len(prediction))\n",
        "    num_mini_batches = i\n",
        "  #adjust learning rate\n",
        "  adjustable_learning_rate(epoch)\n",
        "\n",
        "  #Average Accuracy\n",
        "  train_acc = train_acc/(num_mini_batches+1)\n",
        "  train_loss = train_loss/(num_mini_batches+1)\n",
        "  \n",
        "  #Evaluate on the test set\n",
        "  valid_accu = eval_model(valid_loader)\n",
        "\n",
        "  if valid_accu > best_accu:\n",
        "    torch.save(model.state_dict, f\"pokemon_pytorch_model.pt\")\n",
        "    best_accu = valid_accu\n",
        "    print(f\"Epoch :{epoch}, Checkpoint Saved, Valid Accu: {valid_accu}\")\n",
        "\n",
        "  print(f\"Epoch {epoch}, Train Accuracy: {train_acc} , TrainLoss: {train_loss} , Valid Accuracy: {valid_accu}\")"
      ],
      "execution_count": 19,
      "outputs": [
        {
          "output_type": "stream",
          "text": [
            "/usr/local/lib/python3.6/dist-packages/PIL/Image.py:932: UserWarning: Palette images with Transparency expressed in bytes should be converted to RGBA images\n",
            "  \"Palette images with Transparency expressed in bytes should be \"\n",
            "/usr/local/lib/python3.6/dist-packages/torch/serialization.py:402: UserWarning: Couldn't retrieve source code for container of type CustomCNN. It won't be checked for correctness upon loading.\n",
            "  \"type \" + obj.__name__ + \". It won't be checked \"\n",
            "/usr/local/lib/python3.6/dist-packages/torch/serialization.py:402: UserWarning: Couldn't retrieve source code for container of type SingleCNNUnit. It won't be checked for correctness upon loading.\n",
            "  \"type \" + obj.__name__ + \". It won't be checked \"\n"
          ],
          "name": "stderr"
        },
        {
          "output_type": "stream",
          "text": [
            "Epoch :0, Checkpoint Saved, Valid Accu: 0.9125\n",
            "Epoch 0, Train Accuracy: 0.76010101010101 , TrainLoss: 0.6702476911472551 , Valid Accuracy: 0.9125\n",
            "Epoch :1, Checkpoint Saved, Valid Accu: 0.925\n",
            "Epoch 1, Train Accuracy: 0.8630050505050505 , TrainLoss: 0.36322064810630045 , Valid Accuracy: 0.925\n",
            "Epoch :2, Checkpoint Saved, Valid Accu: 0.95\n",
            "Epoch 2, Train Accuracy: 0.8611111111111112 , TrainLoss: 0.42736963069800177 , Valid Accuracy: 0.95\n",
            "Epoch :3, Checkpoint Saved, Valid Accu: 0.875\n",
            "Epoch 3, Train Accuracy: 0.8636363636363636 , TrainLoss: 0.36402226013667655 , Valid Accuracy: 0.875\n",
            "Epoch :4, Checkpoint Saved, Valid Accu: 0.95\n",
            "Epoch 4, Train Accuracy: 0.8768939393939394 , TrainLoss: 0.37064878010388574 , Valid Accuracy: 0.95\n",
            "Epoch :5, Checkpoint Saved, Valid Accu: 0.7375\n",
            "Epoch 5, Train Accuracy: 0.8794191919191919 , TrainLoss: 0.3530384401480357 , Valid Accuracy: 0.7375\n",
            "Epoch :6, Checkpoint Saved, Valid Accu: 0.9625\n",
            "Epoch 6, Train Accuracy: 0.8901515151515151 , TrainLoss: 0.3098476772958582 , Valid Accuracy: 0.9625\n",
            "Epoch :7, Checkpoint Saved, Valid Accu: 0.975\n",
            "Epoch 7, Train Accuracy: 0.9185606060606061 , TrainLoss: 0.2500416830633626 , Valid Accuracy: 0.975\n",
            "Epoch :8, Checkpoint Saved, Valid Accu: 0.9625\n",
            "Epoch 8, Train Accuracy: 0.9109848484848485 , TrainLoss: 0.3149761638858102 , Valid Accuracy: 0.9625\n",
            "Epoch :9, Checkpoint Saved, Valid Accu: 0.95\n",
            "Epoch 9, Train Accuracy: 0.9059343434343434 , TrainLoss: 0.3057469312440265 , Valid Accuracy: 0.95\n"
          ],
          "name": "stdout"
        }
      ]
    },
    {
      "cell_type": "code",
      "metadata": {
        "id": "t6HOiigUpUwN",
        "colab_type": "code",
        "colab": {
          "base_uri": "https://localhost:8080/",
          "height": 33
        },
        "outputId": "797756b8-4a8a-452f-8311-370b8468cf04"
      },
      "source": [
        "print(f\"Test Accuracy: {eval_model(test_loader)}\")"
      ],
      "execution_count": 26,
      "outputs": [
        {
          "output_type": "stream",
          "text": [
            "Test Accuracy: 1.0\n"
          ],
          "name": "stdout"
        }
      ]
    },
    {
      "cell_type": "code",
      "metadata": {
        "id": "31a97xDIz0rT",
        "colab_type": "code",
        "colab": {}
      },
      "source": [
        ""
      ],
      "execution_count": 0,
      "outputs": []
    }
  ]
}